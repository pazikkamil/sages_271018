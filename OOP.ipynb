{
 "cells": [
  {
   "cell_type": "markdown",
   "metadata": {},
   "source": [
    "# Object oriented programming\n",
    "___\n",
    "\n",
    "Author: Kamil Pazik\n",
    "\n",
    "email: [pazik.kamil@gmail.com](mailto:pazik.kamil@gmail.com)\n",
    "\n",
    "phone: +48 721 114 737"
   ]
  },
  {
   "cell_type": "markdown",
   "metadata": {},
   "source": [
    "## TOC:\n",
    "1. [Refresher of last classes](#Class-refresher)\n",
    "2. [What is OOP](#What-is-OOP)\n",
    "  1. [Why we use oop](#Why-we-use-oop)\n",
    "3. [Classes](#Classes)\n",
    "  * [Attributes](#Attributes)\n",
    "  * [Methods and properties](#Methods)\n",
    "  * [Special methods](#Special-methods)\n",
    "  * [Exercises](#Classes-exercises)\n",
    "4. [Instances](#Instances)\n",
    "  * [Storing instances(pickling)](#Pickling)\n",
    "  * [Exercises](#Instances-exercises)\n",
    "5. [Inheritance](#Inheritance)\n",
    "  * [Exercises](#Inheritance-exercises)\n",
    "  \n",
    "6. [Second Bullet Header](#second-bullet)"
   ]
  },
  {
   "cell_type": "markdown",
   "metadata": {},
   "source": [
    "### Class refresher\n",
    "\n",
    "1. Git\n",
    "  * What is __git__ ?\n",
    "  * Why we use it / why not emails ?\n",
    "  * What is __github__ ?\n",
    "  * What is __.gitignore__ ?\n",
    "  * What to do after changes in code ?\n",
    "  \n",
    "2. Linux\n",
    "  * Why and where we use Linux\n",
    "  * What is __PATH__ \n",
    "  * How to quit __vim__\n",
    "  * How to check file - top rows / last rows / find sentence if file / directory\n",
    "  * How to print number of python processes\n",
    "  \n",
    "3. Python\n",
    "  * How to use default parameters in function ?\n",
    "  * What is lambda / when to use it ?\n",
    "  * What is differece between __list__ and __tuple__ ?\n",
    "  * How to sum all elements in the list\n",
    "  * What is set ?\n",
    "  * What is difference between __.sort__ and __sorted__"
   ]
  },
  {
   "cell_type": "markdown",
   "metadata": {},
   "source": [
    "### What is OOP \n",
    "* Object-oriented programming has been an established paradigm for some years now"
   ]
  },
  {
   "cell_type": "markdown",
   "metadata": {},
   "source": [
    "#### Why we use oop\n",
    "* To avoid repeating yoursel (DRY),\n",
    "* To make code cleaner,\n",
    "* To understand better our code"
   ]
  },
  {
   "cell_type": "markdown",
   "metadata": {},
   "source": [
    "### Classes\n",
    "* Its model in code of some abstract,\n",
    "* We create classes in order to model abstract\n",
    "\n"
   ]
  },
  {
   "cell_type": "code",
   "execution_count": 7,
   "metadata": {},
   "outputs": [],
   "source": [
    "class Human:\n",
    "    pass"
   ]
  },
  {
   "cell_type": "code",
   "execution_count": 11,
   "metadata": {},
   "outputs": [],
   "source": [
    "class Human:\n",
    "    # \"Constructor\" below\n",
    "    def __init__(self, name, surname, weight):\n",
    "        self.name = name\n",
    "        self.surname = surname\n",
    "        self.weight = weight"
   ]
  },
  {
   "cell_type": "code",
   "execution_count": 12,
   "metadata": {},
   "outputs": [],
   "source": [
    "# Make an instance of Human class\n",
    "adam = Human('Adam', 'Nowak', 82)"
   ]
  },
  {
   "cell_type": "code",
   "execution_count": 10,
   "metadata": {},
   "outputs": [
    {
     "name": "stdout",
     "output_type": "stream",
     "text": [
      "<__main__.Human object at 0x103c38cc0>\n"
     ]
    }
   ],
   "source": [
    "print(adam)"
   ]
  },
  {
   "cell_type": "markdown",
   "metadata": {},
   "source": [
    "#### Attributes\n",
    "* Variables in classes\n",
    "* Ex. class user has first name and last name"
   ]
  },
  {
   "cell_type": "markdown",
   "metadata": {},
   "source": [
    "##### Accessing instance attributes"
   ]
  },
  {
   "cell_type": "code",
   "execution_count": 16,
   "metadata": {},
   "outputs": [
    {
     "name": "stdout",
     "output_type": "stream",
     "text": [
      "82\n",
      "87\n"
     ]
    }
   ],
   "source": [
    "print(adam.weight)\n",
    "adam.weight += 5\n",
    "print(adam.weight)"
   ]
  },
  {
   "cell_type": "markdown",
   "metadata": {},
   "source": [
    "___Dynamically typed language warning !!!___\n",
    "\n"
   ]
  },
  {
   "cell_type": "code",
   "execution_count": 19,
   "metadata": {},
   "outputs": [
    {
     "name": "stdout",
     "output_type": "stream",
     "text": [
      "test\n",
      "new\n"
     ]
    }
   ],
   "source": [
    "adam.weight = 'test'\n",
    "print(adam.weight)\n",
    "adam.new_variable = 'new'\n",
    "print(adam.new_variable)"
   ]
  },
  {
   "cell_type": "code",
   "execution_count": 20,
   "metadata": {},
   "outputs": [],
   "source": [
    "del adam.new_variable\n",
    "#print(adam.new_variable)"
   ]
  },
  {
   "cell_type": "markdown",
   "metadata": {},
   "source": [
    "#### Class atributes\n",
    "* When you want to store it on class not on instance"
   ]
  },
  {
   "cell_type": "code",
   "execution_count": 22,
   "metadata": {},
   "outputs": [],
   "source": [
    "class Human:\n",
    "    species = 'homo-sapiens'\n",
    "    # \"Constructor\" below\n",
    "    def __init__(self, name, surname, weight):\n",
    "        self.name = name\n",
    "        self.surname = surname\n",
    "        self.weight = weight"
   ]
  },
  {
   "cell_type": "code",
   "execution_count": 23,
   "metadata": {},
   "outputs": [],
   "source": [
    "eva = Human('eva', 'nowak', 61)"
   ]
  },
  {
   "cell_type": "code",
   "execution_count": 24,
   "metadata": {},
   "outputs": [
    {
     "data": {
      "text/plain": [
       "'homo-sapiens'"
      ]
     },
     "execution_count": 24,
     "metadata": {},
     "output_type": "execute_result"
    }
   ],
   "source": [
    "eva.species = 'xx'"
   ]
  },
  {
   "cell_type": "code",
   "execution_count": 25,
   "metadata": {},
   "outputs": [],
   "source": [
    "chris = Human('chris', 'nowak', 41)"
   ]
  },
  {
   "cell_type": "code",
   "execution_count": 26,
   "metadata": {},
   "outputs": [
    {
     "data": {
      "text/plain": [
       "'homo-sapiens'"
      ]
     },
     "execution_count": 26,
     "metadata": {},
     "output_type": "execute_result"
    }
   ],
   "source": [
    "chris.species"
   ]
  },
  {
   "cell_type": "code",
   "execution_count": 27,
   "metadata": {},
   "outputs": [
    {
     "data": {
      "text/plain": [
       "'homo-sapiens'"
      ]
     },
     "execution_count": 27,
     "metadata": {},
     "output_type": "execute_result"
    }
   ],
   "source": [
    "Human.species"
   ]
  },
  {
   "cell_type": "markdown",
   "metadata": {},
   "source": [
    "#### Methods\n",
    "* Activities on our models(classes)"
   ]
  },
  {
   "cell_type": "markdown",
   "metadata": {},
   "source": [
    "#### Properties\n",
    "* We can use method as attribute,\n",
    "* Ex. to calculate price for ticket(when we pay different currency) we need to calculate price first"
   ]
  },
  {
   "cell_type": "code",
   "execution_count": null,
   "metadata": {},
   "outputs": [],
   "source": []
  },
  {
   "cell_type": "markdown",
   "metadata": {},
   "source": [
    "#### Special methods\n",
    "* Methods which got special meaning (just in python)\n",
    "* Are used when we do activieties like: __len()__, __str()__, __float()__\n",
    "* Also are used when we create an instance of class(__new__, __init__)"
   ]
  },
  {
   "cell_type": "code",
   "execution_count": null,
   "metadata": {},
   "outputs": [],
   "source": []
  }
 ],
 "metadata": {
  "kernelspec": {
   "display_name": "Python 3",
   "language": "python",
   "name": "python3"
  },
  "language_info": {
   "codemirror_mode": {
    "name": "ipython",
    "version": 3
   },
   "file_extension": ".py",
   "mimetype": "text/x-python",
   "name": "python",
   "nbconvert_exporter": "python",
   "pygments_lexer": "ipython3",
   "version": "3.7.0"
  }
 },
 "nbformat": 4,
 "nbformat_minor": 2
}
