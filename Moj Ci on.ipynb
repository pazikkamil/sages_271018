{
 "cells": [
  {
   "cell_type": "markdown",
   "metadata": {},
   "source": [
    "* Create class Car (not specific but needs to have: name, brand, engine volume, consumption, milage, color)\n",
    "* Create list of 3 cars (random names, engine volume etc. - you decide)\n",
    "* Check types in your list\n",
    "* Create nice __repr__ and __str__ functions\n",
    "* Your Car class has __go__ function\n",
    "* If you not specify __color__ then __color__ is picked by random from 'pink', 'red', 'blue'"
   ]
  },
  {
   "cell_type": "code",
   "execution_count": 80,
   "metadata": {},
   "outputs": [],
   "source": [
    "import random\n",
    "\n",
    "class Car:\n",
    "    colors = ['pink', 'red', 'blue']\n",
    "    def __init__(self, marka=\"N/A\", pojemnosc=1, przebieg=0, color=\"N/A\", mpg=0):\n",
    "        self.marka = marka\n",
    "        self.pojemnosc = pojemnosc\n",
    "        self.przebieg = przebieg\n",
    "        self.mpg = mpg\n",
    "        self.color=color\n",
    "        if color==\"N/A\":\n",
    "            self.color = random.choice(self.colors)\n",
    "        \n",
    "    def __repr__(self):\n",
    "        return '{class_name} with full name: {marka}'.format(class_name=self.__class__, marka=self.marka)\n",
    "    \n",
    "    def __str__(self):\n",
    "        return str(self.marka)\n",
    "    \n",
    "    def go(self):\n",
    "        return \"I am going like hell\"\n",
    "    \n",
    "    def kpl(self):\n",
    "        return float(self.mpg)*0.425143707"
   ]
  },
  {
   "cell_type": "code",
   "execution_count": 81,
   "metadata": {},
   "outputs": [],
   "source": [
    "auto1 = Car(\"Toyota\", 998, 120000,mpg=20)\n",
    "auto2 = Car(\"Opel\", 1998, 20000,mpg=15)\n",
    "auto3 = Car(\"Mazda\", 1498, 220000,mpg=10)"
   ]
  },
  {
   "cell_type": "code",
   "execution_count": 82,
   "metadata": {},
   "outputs": [
    {
     "data": {
      "text/plain": [
       "\"<class '__main__.Car'> with full name: Toyota\""
      ]
     },
     "execution_count": 82,
     "metadata": {},
     "output_type": "execute_result"
    }
   ],
   "source": [
    "repr(auto1)"
   ]
  },
  {
   "cell_type": "code",
   "execution_count": 83,
   "metadata": {},
   "outputs": [
    {
     "data": {
      "text/plain": [
       "'Toyota'"
      ]
     },
     "execution_count": 83,
     "metadata": {},
     "output_type": "execute_result"
    }
   ],
   "source": [
    "str(auto1)"
   ]
  },
  {
   "cell_type": "code",
   "execution_count": 84,
   "metadata": {},
   "outputs": [
    {
     "data": {
      "text/plain": [
       "'I am going like hell'"
      ]
     },
     "execution_count": 84,
     "metadata": {},
     "output_type": "execute_result"
    }
   ],
   "source": [
    "auto1.go()"
   ]
  },
  {
   "cell_type": "code",
   "execution_count": 85,
   "metadata": {},
   "outputs": [
    {
     "data": {
      "text/plain": [
       "'blue'"
      ]
     },
     "execution_count": 85,
     "metadata": {},
     "output_type": "execute_result"
    }
   ],
   "source": [
    "auto1.color"
   ]
  },
  {
   "cell_type": "code",
   "execution_count": 86,
   "metadata": {},
   "outputs": [
    {
     "data": {
      "text/plain": [
       "{'marka': 'Toyota',\n",
       " 'pojemnosc': 998,\n",
       " 'przebieg': 120000,\n",
       " 'mpg': 20,\n",
       " 'color': 'blue'}"
      ]
     },
     "execution_count": 86,
     "metadata": {},
     "output_type": "execute_result"
    }
   ],
   "source": [
    "auto1.__dict__"
   ]
  },
  {
   "cell_type": "markdown",
   "metadata": {},
   "source": [
    "___\n",
    "__Extra__:\n",
    "* Create class Human,\n",
    "* Human has specific __unique id (autoincremented)__, weight, height and bmi,\n",
    "* Human can eat,\n",
    "* Human can exercise,\n",
    "* Create list of 1000 humans using random names,\n",
    "* Calculate average BMI of population,"
   ]
  },
  {
   "cell_type": "code",
   "execution_count": 87,
   "metadata": {},
   "outputs": [],
   "source": [
    "import uuid\n",
    "class Human:\n",
    "    species = 'homo-sapiens'\n",
    "    # \"Constructor\" below\n",
    "    def __init__(self, name, surname, weight, height, bmi):\n",
    "        self.name = name\n",
    "        self.surname = surname\n",
    "        self.weight = weight\n",
    "        self.height = height\n",
    "        self.bmi = bmi\n",
    "        self.id = uuid.uuid4()\n",
    "        \n",
    "    def say_hello(self):\n",
    "        print('Hello I\\'m {}'.format(self.name))\n",
    "        \n",
    "# @property - zachowuje sie jak metoda ale jest to pewna własciwość\n",
    "    @property\n",
    "    def full_name(self):\n",
    "        return \"{name} {surname}\".format(name=self.name, surname=self.surname)\n",
    "    \n",
    "    def __str__(self):\n",
    "        return self.full_name\n",
    "    \n",
    "    def __repr__(self):\n",
    "        return '{class_name} with full name: {full_name}'.format(class_name=self.__class__, full_name=self.full_name)\n",
    "    \n",
    "    @staticmethod\n",
    "    def get_average_age():\n",
    "        return 73\n",
    "    \n",
    "    @classmethod\n",
    "    def get_species(cls):\n",
    "        return cls.species"
   ]
  },
  {
   "cell_type": "code",
   "execution_count": 88,
   "metadata": {},
   "outputs": [
    {
     "data": {
      "text/plain": [
       "UUID('3cc7a5e7-632b-4758-baed-8ab9d0448c3e')"
      ]
     },
     "execution_count": 88,
     "metadata": {},
     "output_type": "execute_result"
    }
   ],
   "source": [
    "eva.id"
   ]
  },
  {
   "cell_type": "code",
   "execution_count": null,
   "metadata": {},
   "outputs": [],
   "source": [
    "# Nazmieniałem jak SZAJNBUS, SZAJBUS"
   ]
  },
  {
   "cell_type": "code",
   "execution_count": null,
   "metadata": {},
   "outputs": [],
   "source": [
    "Chodźcie na OBIAD !!!"
   ]
  },
  {
   "cell_type": "code",
   "execution_count": 89,
   "metadata": {},
   "outputs": [],
   "source": [
    "import names\n",
    "from random import randint\n",
    "humans=[]\n",
    "for i in range(1000):\n",
    "    human = Human(names.get_first_name(), names.get_last_name(), randint(10, 99), randint(120, 190), randint(15, 35))\n",
    "    humans.append(human)"
   ]
  },
  {
   "cell_type": "code",
   "execution_count": 107,
   "metadata": {},
   "outputs": [
    {
     "data": {
      "text/plain": [
       "'Marie Garza'"
      ]
     },
     "execution_count": 107,
     "metadata": {},
     "output_type": "execute_result"
    }
   ],
   "source": [
    "names.get_full_name()"
   ]
  },
  {
   "cell_type": "code",
   "execution_count": 90,
   "metadata": {},
   "outputs": [
    {
     "name": "stdout",
     "output_type": "stream",
     "text": [
      "25.388\n"
     ]
    }
   ],
   "source": [
    "sum_bmi=0\n",
    "for h in humans:\n",
    "    sum_bmi+=h.bmi\n",
    "print(sum_bmi/len(humans))"
   ]
  },
  {
   "cell_type": "markdown",
   "metadata": {},
   "source": [
    "\n",
    "__Extra 2__:\n",
    "* Extend Car for method where you convert any mile per galon (mpg) to liters per 100 km"
   ]
  },
  {
   "cell_type": "code",
   "execution_count": 91,
   "metadata": {},
   "outputs": [
    {
     "data": {
      "text/plain": [
       "8.50287414"
      ]
     },
     "execution_count": 91,
     "metadata": {},
     "output_type": "execute_result"
    }
   ],
   "source": [
    "auto1.kpl()"
   ]
  },
  {
   "cell_type": "markdown",
   "metadata": {},
   "source": [
    "__Extra 3__:\n",
    "* Create class Population,\n",
    "* In population you can put people from calculation,\n",
    "* Calculate mean and median of bmi in systematic wa"
   ]
  },
  {
   "cell_type": "code",
   "execution_count": null,
   "metadata": {},
   "outputs": [],
   "source": [
    "!pip install Faker"
   ]
  },
  {
   "cell_type": "code",
   "execution_count": 166,
   "metadata": {},
   "outputs": [
    {
     "data": {
      "text/plain": [
       "'Cezary Chadaj'"
      ]
     },
     "execution_count": 166,
     "metadata": {},
     "output_type": "execute_result"
    }
   ],
   "source": [
    "from faker import Faker\n",
    "fake = Faker('pl_PL')\n",
    "fake.name()"
   ]
  },
  {
   "cell_type": "code",
   "execution_count": 125,
   "metadata": {},
   "outputs": [
    {
     "name": "stdout",
     "output_type": "stream",
     "text": [
      "a \n",
      " \n"
     ]
    }
   ],
   "source": [
    "print(\"{0} \\n \".format(\"a\",\"  b\"))"
   ]
  },
  {
   "cell_type": "code",
   "execution_count": 168,
   "metadata": {},
   "outputs": [],
   "source": [
    "x= [Human(fake.name(), fake.last_name, fake.random_int(60,100), fake.random_int(150,200), fake.random_int(15,25)) for i in range(10)]"
   ]
  },
  {
   "cell_type": "code",
   "execution_count": 169,
   "metadata": {},
   "outputs": [
    {
     "data": {
      "text/plain": [
       "[<class '__main__.Human'> with full name: Juliusz Krzosek <bound method Provider.last_name of <faker.providers.person.pl_PL.Provider object at 0x7f21d7ffac18>>,\n",
       " <class '__main__.Human'> with full name: pani Sylwia Bernatek <bound method Provider.last_name of <faker.providers.person.pl_PL.Provider object at 0x7f21d7ffac18>>,\n",
       " <class '__main__.Human'> with full name: Julianna Kolarz <bound method Provider.last_name of <faker.providers.person.pl_PL.Provider object at 0x7f21d7ffac18>>,\n",
       " <class '__main__.Human'> with full name: pan Konstanty Antoszczyk <bound method Provider.last_name of <faker.providers.person.pl_PL.Provider object at 0x7f21d7ffac18>>,\n",
       " <class '__main__.Human'> with full name: Marika Kocaj <bound method Provider.last_name of <faker.providers.person.pl_PL.Provider object at 0x7f21d7ffac18>>,\n",
       " <class '__main__.Human'> with full name: Ewa Hadam <bound method Provider.last_name of <faker.providers.person.pl_PL.Provider object at 0x7f21d7ffac18>>,\n",
       " <class '__main__.Human'> with full name: Agnieszka Schwarz <bound method Provider.last_name of <faker.providers.person.pl_PL.Provider object at 0x7f21d7ffac18>>,\n",
       " <class '__main__.Human'> with full name: Rafał Kandora <bound method Provider.last_name of <faker.providers.person.pl_PL.Provider object at 0x7f21d7ffac18>>,\n",
       " <class '__main__.Human'> with full name: Jakub Zybura <bound method Provider.last_name of <faker.providers.person.pl_PL.Provider object at 0x7f21d7ffac18>>,\n",
       " <class '__main__.Human'> with full name: Oskar Antończak <bound method Provider.last_name of <faker.providers.person.pl_PL.Provider object at 0x7f21d7ffac18>>]"
      ]
     },
     "execution_count": 169,
     "metadata": {},
     "output_type": "execute_result"
    }
   ],
   "source": [
    "x"
   ]
  }
 ],
 "metadata": {
  "kernelspec": {
   "display_name": "Python 3",
   "language": "python",
   "name": "python3"
  },
  "language_info": {
   "codemirror_mode": {
    "name": "ipython",
    "version": 3
   },
   "file_extension": ".py",
   "mimetype": "text/x-python",
   "name": "python",
   "nbconvert_exporter": "python",
   "pygments_lexer": "ipython3",
   "version": "3.6.6"
  }
 },
 "nbformat": 4,
 "nbformat_minor": 2
}
